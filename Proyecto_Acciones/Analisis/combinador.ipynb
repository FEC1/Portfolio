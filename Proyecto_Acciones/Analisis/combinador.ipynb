{
 "cells": [
  {
   "cell_type": "markdown",
   "metadata": {},
   "source": [
    "# Juntar los csv\n",
    "### En este notebook se juntan los csv de las diferentes horas de los diferentes días"
   ]
  },
  {
   "cell_type": "code",
   "execution_count": 2,
   "metadata": {},
   "outputs": [],
   "source": [
    "import pandas as pd\n",
    "import numpy as np\n",
    "import os\n",
    "import glob\n",
    "import re\n",
    "\n",
    "acciones =[]\n",
    "oro=[]\n",
    "for archivo in glob.glob('C:/Users/fabio/OneDrive/Documentos/Data Analitics/Barcelona Activa/IT_Academy_Data/Proyecto/*.csv'):\n",
    "    nombre_archivo = os.path.basename(archivo)\n",
    "    \n",
    "    \n",
    "    fecha= ''\n",
    "    hora= ''\n",
    "    \n",
    "    if 'Acciones' in nombre_archivo:\n",
    "        match = re.search(r'Acciones_(\\d{4}-\\d{2}-\\d{2})_(\\d{2}-\\d{2}-\\d{2})', nombre_archivo)\n",
    "        if match:\n",
    "            fecha = match.group(1)\n",
    "            hora= match.group(2) \n",
    "        else:\n",
    "            fecha ='desconocido'\n",
    "            hora = 'desconocido'\n",
    "       \n",
    "    elif 'oro' in nombre_archivo:\n",
    "        match = re.search(r'oro_(\\d{4}-\\d{2}-\\d{2})', nombre_archivo)\n",
    "        fecha = match.group(1) if match else 'desconocido'\n",
    "\n",
    "\n",
    "    df= pd.read_csv(archivo, sep=',')\n",
    "    df['fecha'] = fecha\n",
    "    df['hora'] = hora\n",
    "    \n",
    "    if 'Acciones' in nombre_archivo:\n",
    "        df['hora']= pd.to_datetime(df['hora'], format='%H-%M-%S').dt.time\n",
    "        acciones.append(df)\n",
    "    elif 'oro' in nombre_archivo:\n",
    "        hora_default = pd.to_datetime('00:00:00', format='%H:%M:%S').time()\n",
    "        df['hora'] = hora_default\n",
    "        oro.append(df)\n",
    "if acciones:\n",
    "    df_acciones = pd.concat(acciones, ignore_index=True)\n",
    "    df_acciones.to_csv('acciones_combinadas.csv', index=False)\n",
    "else:\n",
    "    print(\"No se encontraron archivos de acciones.\")\n",
    "\n",
    "if oro:\n",
    "    df_oro = pd.concat(oro, ignore_index=True)\n",
    "    df_oro.to_csv('oro_combinados.csv', index=False)\n",
    "else:\n",
    "    print(\"No se encontraron archivos de oro.\")\n",
    "    "
   ]
  }
 ],
 "metadata": {
  "kernelspec": {
   "display_name": "Python 3",
   "language": "python",
   "name": "python3"
  },
  "language_info": {
   "codemirror_mode": {
    "name": "ipython",
    "version": 3
   },
   "file_extension": ".py",
   "mimetype": "text/x-python",
   "name": "python",
   "nbconvert_exporter": "python",
   "pygments_lexer": "ipython3",
   "version": "3.11.9"
  }
 },
 "nbformat": 4,
 "nbformat_minor": 2
}
